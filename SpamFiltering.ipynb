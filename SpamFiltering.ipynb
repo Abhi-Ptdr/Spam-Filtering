{
 "cells": [
  {
   "cell_type": "code",
   "execution_count": 2,
   "id": "0426a312",
   "metadata": {},
   "outputs": [],
   "source": [
    "import numpy as np\n",
    "import pandas as pd\n",
    "from sklearn.model_selection import train_test_split\n",
    "from sklearn.feature_extraction.text import TfidfVectorizer\n",
    "from sklearn.linear_model import LogisticRegression\n",
    "from sklearn.metrics import accuracy_score, confusion_matrix, classification_report"
   ]
  },
  {
   "cell_type": "code",
   "execution_count": 3,
   "id": "609d303c",
   "metadata": {
    "scrolled": false
   },
   "outputs": [
    {
     "name": "stdout",
     "output_type": "stream",
     "text": [
      "      type                                               text\n",
      "0      ham  Hope you are having a good week. Just checking in\n",
      "1      ham                            K..give back my thanks.\n",
      "2      ham        Am also doing in cbe only. But have to pay.\n",
      "3     spam  complimentary 4 STAR Ibiza Holiday or £10,000 ...\n",
      "4     spam  okmail: Dear Dave this is your final notice to...\n",
      "...    ...                                                ...\n",
      "5554   ham  You are a great role model. You are giving so ...\n",
      "5555   ham  Awesome, I remember the last time we got someb...\n",
      "5556  spam  If you don't, your prize will go to another cu...\n",
      "5557  spam  SMS. ac JSco: Energy is high, but u may not kn...\n",
      "5558   ham                    Shall call now dear having food\n",
      "\n",
      "[5559 rows x 2 columns]\n"
     ]
    }
   ],
   "source": [
    "# loading the data from csv file to a pandas Dataframe\n",
    "df = pd.read_csv('sms_spam.csv')\n",
    "print(df)"
   ]
  },
  {
   "cell_type": "code",
   "execution_count": 4,
   "id": "a5d90c61",
   "metadata": {},
   "outputs": [],
   "source": [
    "# replace the null values with a null string\n",
    "mail_data = df.where((pd.notnull(df)),'')"
   ]
  },
  {
   "cell_type": "code",
   "execution_count": 5,
   "id": "de2c798a",
   "metadata": {},
   "outputs": [
    {
     "data": {
      "text/plain": [
       "(5559, 2)"
      ]
     },
     "execution_count": 5,
     "metadata": {},
     "output_type": "execute_result"
    }
   ],
   "source": [
    "# checking the number of rows and columns in the dataframe\n",
    "mail_data.shape"
   ]
  },
  {
   "cell_type": "code",
   "execution_count": 6,
   "id": "6b97bbd1",
   "metadata": {},
   "outputs": [],
   "source": [
    "# label spam mail as 0;  ham mail as 1;\n",
    "\n",
    "mail_data.loc[mail_data['type'] == 'spam', 'type',] = 0\n",
    "mail_data.loc[mail_data['type'] == 'ham', 'type',] = 1"
   ]
  },
  {
   "cell_type": "code",
   "execution_count": 7,
   "id": "58a80669",
   "metadata": {},
   "outputs": [],
   "source": [
    "# separating the data as texts and type\n",
    "\n",
    "X = mail_data['text']\n",
    "\n",
    "Y = mail_data['type']"
   ]
  },
  {
   "cell_type": "code",
   "execution_count": 8,
   "id": "37846f2e",
   "metadata": {
    "scrolled": false
   },
   "outputs": [
    {
     "name": "stdout",
     "output_type": "stream",
     "text": [
      "0       Hope you are having a good week. Just checking in\n",
      "1                                 K..give back my thanks.\n",
      "2             Am also doing in cbe only. But have to pay.\n",
      "3       complimentary 4 STAR Ibiza Holiday or £10,000 ...\n",
      "4       okmail: Dear Dave this is your final notice to...\n",
      "                              ...                        \n",
      "5554    You are a great role model. You are giving so ...\n",
      "5555    Awesome, I remember the last time we got someb...\n",
      "5556    If you don't, your prize will go to another cu...\n",
      "5557    SMS. ac JSco: Energy is high, but u may not kn...\n",
      "5558                      Shall call now dear having food\n",
      "Name: text, Length: 5559, dtype: object\n"
     ]
    }
   ],
   "source": [
    "print(X)"
   ]
  },
  {
   "cell_type": "code",
   "execution_count": 9,
   "id": "c2e6491c",
   "metadata": {
    "scrolled": true
   },
   "outputs": [
    {
     "name": "stdout",
     "output_type": "stream",
     "text": [
      "0       1\n",
      "1       1\n",
      "2       1\n",
      "3       0\n",
      "4       0\n",
      "       ..\n",
      "5554    1\n",
      "5555    1\n",
      "5556    0\n",
      "5557    0\n",
      "5558    1\n",
      "Name: type, Length: 5559, dtype: object\n"
     ]
    }
   ],
   "source": [
    "print(Y)"
   ]
  },
  {
   "cell_type": "code",
   "execution_count": 10,
   "id": "6a2b1b8b",
   "metadata": {},
   "outputs": [],
   "source": [
    "X_train, X_test, Y_train, Y_test = train_test_split(X, Y, test_size=0.2, random_state=3)"
   ]
  },
  {
   "cell_type": "code",
   "execution_count": 11,
   "id": "b19fb13d",
   "metadata": {},
   "outputs": [
    {
     "name": "stdout",
     "output_type": "stream",
     "text": [
      "(5559,)\n",
      "(4447,)\n",
      "(1112,)\n"
     ]
    }
   ],
   "source": [
    "print(X.shape)\n",
    "print(X_train.shape)\n",
    "print(X_test.shape)"
   ]
  },
  {
   "cell_type": "code",
   "execution_count": 12,
   "id": "737342f0",
   "metadata": {
    "scrolled": true
   },
   "outputs": [],
   "source": [
    "# transform the text data to feature vectors that can be used as input to the Logistic regression \n",
    "# (extract words like and, the, are)\n",
    "\n",
    "feature_extraction = TfidfVectorizer(min_df = 1, stop_words='english', lowercase=True)\n",
    "\n",
    "X_train_features = feature_extraction.fit_transform(X_train)\n",
    "X_test_features = feature_extraction.transform(X_test)\n",
    "\n",
    "# convert Y_train and Y_test values as integers\n",
    "\n",
    "Y_train = Y_train.astype('int')\n",
    "Y_test = Y_test.astype('int')"
   ]
  },
  {
   "cell_type": "code",
   "execution_count": 13,
   "id": "bbadf8f2",
   "metadata": {},
   "outputs": [
    {
     "name": "stdout",
     "output_type": "stream",
     "text": [
      "4707    I cant pick the phone right now. Pls send a me...\n",
      "4401    Save yourself the stress. If the person has a ...\n",
      "5045                Check wid corect speling i.e. Sarcasm\n",
      "3250    Dude just saw a parked car with its sunroof po...\n",
      "4529    Oh... Lk tt den we take e one tt ends at cine ...\n",
      "                              ...                        \n",
      "789     Dear Voucher Holder, 2 claim this weeks offer,...\n",
      "968     She.s fine. I have had difficulties with her p...\n",
      "1667    500 New Mobiles from 2004, MUST GO! Txt: NOKIA...\n",
      "3321    Oh right, ok. I'll make sure that i do loads o...\n",
      "1688    Well done ENGLAND! Get the official poly ringt...\n",
      "Name: text, Length: 4447, dtype: object\n"
     ]
    }
   ],
   "source": [
    "print(X_train)"
   ]
  },
  {
   "cell_type": "code",
   "execution_count": 14,
   "id": "8d12725b",
   "metadata": {},
   "outputs": [
    {
     "name": "stdout",
     "output_type": "stream",
     "text": [
      "  (0, 4320)\t0.41876685731019514\n",
      "  (0, 5828)\t0.3588355063720001\n",
      "  (0, 5074)\t0.4057231918631618\n",
      "  (0, 5607)\t0.42917851946659635\n",
      "  (0, 5006)\t0.39365513182244927\n",
      "  (0, 5018)\t0.43829388061889635\n",
      "  (1, 5838)\t0.23601934358493576\n",
      "  (1, 4434)\t0.24643388023162596\n",
      "  (1, 2207)\t0.2844207018665432\n",
      "  (1, 3746)\t0.16449859313194146\n",
      "  (1, 779)\t0.5412038976893805\n",
      "  (1, 2346)\t0.3836054479910387\n",
      "  (1, 4982)\t0.25388284481340484\n",
      "  (1, 6323)\t0.3657419467625696\n",
      "  (1, 5744)\t0.31734058848096225\n",
      "  (1, 5828)\t0.1913812193576672\n",
      "  (2, 5729)\t0.48135325881795915\n",
      "  (2, 6177)\t0.5048634265915348\n",
      "  (2, 1954)\t0.5048634265915348\n",
      "  (2, 7258)\t0.37432630555671054\n",
      "  (2, 1692)\t0.34409983750955614\n",
      "  (3, 6443)\t0.41244527413925053\n",
      "  (3, 5132)\t0.3981524695842464\n",
      "  (3, 6411)\t0.43258985073616385\n",
      "  (3, 1593)\t0.2863023518499901\n",
      "  :\t:\n",
      "  (4445, 4750)\t0.15248093717353542\n",
      "  (4445, 4028)\t0.15386651025596382\n",
      "  (4445, 6717)\t0.17406918537504995\n",
      "  (4445, 2118)\t0.16343452723506488\n",
      "  (4445, 3094)\t0.15956099390108566\n",
      "  (4445, 4745)\t0.19111225165694357\n",
      "  (4445, 5607)\t0.1988442705847767\n",
      "  (4446, 7102)\t0.25451497484775054\n",
      "  (4446, 1413)\t0.25451497484775054\n",
      "  (4446, 2517)\t0.24742813003029673\n",
      "  (4446, 668)\t0.25451497484775054\n",
      "  (4446, 6738)\t0.18562771870832617\n",
      "  (4446, 7430)\t0.25451497484775054\n",
      "  (4446, 2779)\t0.49485626006059347\n",
      "  (4446, 1838)\t0.20674678687361495\n",
      "  (4446, 5614)\t0.19761025484200592\n",
      "  (4446, 5115)\t0.21048747348951474\n",
      "  (4446, 4738)\t0.24742813003029673\n",
      "  (4446, 2522)\t0.22876053755273285\n",
      "  (4446, 534)\t0.17430003317548923\n",
      "  (4446, 4799)\t0.21048747348951474\n",
      "  (4446, 6300)\t0.14868706216754418\n",
      "  (4446, 6588)\t0.14205719111805976\n",
      "  (4446, 6869)\t0.14182788233171895\n",
      "  (4446, 4408)\t0.1535827534837701\n"
     ]
    }
   ],
   "source": [
    "print(X_train_features)"
   ]
  },
  {
   "cell_type": "code",
   "execution_count": 15,
   "id": "9cf33028",
   "metadata": {},
   "outputs": [],
   "source": [
    "model = LogisticRegression()"
   ]
  },
  {
   "cell_type": "code",
   "execution_count": 16,
   "id": "7183d3bf",
   "metadata": {},
   "outputs": [
    {
     "data": {
      "text/plain": [
       "LogisticRegression()"
      ]
     },
     "execution_count": 16,
     "metadata": {},
     "output_type": "execute_result"
    }
   ],
   "source": [
    "# training the Logistic Regression model with the training data\n",
    "\n",
    "model.fit(X_train_features, Y_train)"
   ]
  },
  {
   "cell_type": "code",
   "execution_count": 47,
   "id": "e9c489a3",
   "metadata": {},
   "outputs": [],
   "source": [
    "# prediction on training data\n",
    "\n",
    "prediction_on_training_data = model.predict(X_train_features)\n",
    "accuracy_on_training_data = accuracy_score(Y_train, prediction_on_training_data)"
   ]
  },
  {
   "cell_type": "code",
   "execution_count": 48,
   "id": "6268b171",
   "metadata": {},
   "outputs": [
    {
     "name": "stdout",
     "output_type": "stream",
     "text": [
      "Accuracy on training data :  0.9667191364965145\n"
     ]
    }
   ],
   "source": [
    "print('Accuracy on training data : ', accuracy_on_training_data)"
   ]
  },
  {
   "cell_type": "code",
   "execution_count": 50,
   "id": "21cfb66c",
   "metadata": {},
   "outputs": [],
   "source": [
    "# prediction on test data\n",
    "\n",
    "prediction_on_test_data = model.predict(X_test_features)\n",
    "accuracy_on_test_data = accuracy_score(Y_test, prediction_on_test_data)"
   ]
  },
  {
   "cell_type": "code",
   "execution_count": 51,
   "id": "5212c6dd",
   "metadata": {},
   "outputs": [
    {
     "name": "stdout",
     "output_type": "stream",
     "text": [
      "Accuracy on test data :  0.966726618705036\n"
     ]
    }
   ],
   "source": [
    "print('Accuracy on test data : ', accuracy_on_test_data)"
   ]
  },
  {
   "cell_type": "code",
   "execution_count": 52,
   "id": "4882a027",
   "metadata": {},
   "outputs": [
    {
     "name": "stdout",
     "output_type": "stream",
     "text": [
      "[1]\n",
      "Ham mail\n"
     ]
    }
   ],
   "source": [
    "input_mail = [\"Hope you are having a good week. Just checking in\"]\n",
    "\n",
    "# convert text to feature vectors\n",
    "input_data_features = feature_extraction.transform(input_mail)\n",
    "\n",
    "# making prediction\n",
    "\n",
    "prediction = model.predict(input_data_features)\n",
    "print(prediction)\n",
    "\n",
    "\n",
    "if (prediction[0]==1):\n",
    "  print('Ham mail')\n",
    "\n",
    "else:\n",
    "  print('Spam mail')"
   ]
  },
  {
   "cell_type": "code",
   "execution_count": 53,
   "id": "dfe06d07",
   "metadata": {},
   "outputs": [
    {
     "name": "stdout",
     "output_type": "stream",
     "text": [
      "Confusion Matrix:\n",
      "[[114  34]\n",
      " [  3 961]]\n"
     ]
    }
   ],
   "source": [
    "# Generate the confusion matrix\n",
    "confusion_matrix_result = confusion_matrix(Y_test, prediction_on_test_data)\n",
    "print(\"Confusion Matrix:\")\n",
    "print(confusion_matrix_result)"
   ]
  },
  {
   "cell_type": "code",
   "execution_count": 67,
   "id": "d9deac4a",
   "metadata": {},
   "outputs": [
    {
     "data": {
      "text/plain": [
       "DecisionTreeClassifier(criterion='entropy', random_state=0)"
      ]
     },
     "execution_count": 67,
     "metadata": {},
     "output_type": "execute_result"
    }
   ],
   "source": [
    "from sklearn.tree import DecisionTreeClassifier\n",
    "model2 = DecisionTreeClassifier(criterion='entropy', random_state=0)\n",
    "model2.fit(X_train_features, Y_train)"
   ]
  },
  {
   "cell_type": "code",
   "execution_count": 68,
   "id": "345cdeb4",
   "metadata": {},
   "outputs": [
    {
     "name": "stdout",
     "output_type": "stream",
     "text": [
      "Accuracy on test data :  0.9631294964028777\n"
     ]
    }
   ],
   "source": [
    "prediction_on_test_data = model2.predict(X_test_features)\n",
    "accuracy_on_test_data = accuracy_score(Y_test, prediction_on_test_data)\n",
    "print('Accuracy on test data : ', accuracy_on_test_data)"
   ]
  },
  {
   "cell_type": "code",
   "execution_count": 69,
   "id": "e49fbcb7",
   "metadata": {},
   "outputs": [
    {
     "name": "stdout",
     "output_type": "stream",
     "text": [
      "[1]\n",
      "Ham mail\n"
     ]
    }
   ],
   "source": [
    "prediction = model2.predict(input_data_features)\n",
    "print(prediction)\n",
    "\n",
    "\n",
    "if (prediction[0]==1):\n",
    "  print('Ham mail')\n",
    "\n",
    "else:\n",
    "  print('Spam mail')"
   ]
  },
  {
   "cell_type": "code",
   "execution_count": 70,
   "id": "92e3e7e9",
   "metadata": {},
   "outputs": [
    {
     "data": {
      "text/plain": [
       "SVC(kernel='linear', random_state=0)"
      ]
     },
     "execution_count": 70,
     "metadata": {},
     "output_type": "execute_result"
    }
   ],
   "source": [
    "from sklearn.svm import SVC\n",
    "model4 = SVC(kernel='linear', random_state=0)\n",
    "model4.fit(X_train_features, Y_train)"
   ]
  },
  {
   "cell_type": "code",
   "execution_count": 71,
   "id": "b510d87d",
   "metadata": {},
   "outputs": [
    {
     "name": "stdout",
     "output_type": "stream",
     "text": [
      "Accuracy on test data :  0.9838129496402878\n"
     ]
    }
   ],
   "source": [
    "prediction_on_test_data = model4.predict(X_test_features)\n",
    "accuracy_on_test_data = accuracy_score(Y_test, prediction_on_test_data)\n",
    "print('Accuracy on test data : ', accuracy_on_test_data)"
   ]
  },
  {
   "cell_type": "code",
   "execution_count": 72,
   "id": "09cc9f08",
   "metadata": {},
   "outputs": [
    {
     "name": "stdout",
     "output_type": "stream",
     "text": [
      "[1]\n",
      "Ham mail\n"
     ]
    }
   ],
   "source": [
    "prediction = model4.predict(input_data_features)\n",
    "print(prediction)\n",
    "\n",
    "\n",
    "if (prediction[0]==1):\n",
    "  print('Ham mail')\n",
    "\n",
    "else:\n",
    "  print('Spam mail')"
   ]
  },
  {
   "cell_type": "code",
   "execution_count": 73,
   "id": "f23a9e2c",
   "metadata": {
    "scrolled": true
   },
   "outputs": [
    {
     "name": "stdout",
     "output_type": "stream",
     "text": [
      "Confusion Matrix:\n",
      "[[133  15]\n",
      " [  3 961]]\n"
     ]
    }
   ],
   "source": [
    "# Generate the confusion matrix\n",
    "confusion_matrix_result = confusion_matrix(Y_test, prediction_on_test_data)\n",
    "print(\"Confusion Matrix:\")\n",
    "print(confusion_matrix_result)"
   ]
  },
  {
   "cell_type": "code",
   "execution_count": 60,
   "id": "deb863b7",
   "metadata": {},
   "outputs": [
    {
     "data": {
      "text/plain": [
       "MultinomialNB(alpha=0.01)"
      ]
     },
     "execution_count": 60,
     "metadata": {},
     "output_type": "execute_result"
    }
   ],
   "source": [
    "from sklearn.feature_extraction.text import CountVectorizer\n",
    "from sklearn.naive_bayes import MultinomialNB\n",
    "\n",
    "bayes = MultinomialNB(alpha=0.01)\n",
    "bayes.fit(X_train_features, Y_train)"
   ]
  },
  {
   "cell_type": "code",
   "execution_count": 61,
   "id": "0942a1ff",
   "metadata": {},
   "outputs": [
    {
     "name": "stdout",
     "output_type": "stream",
     "text": [
      "Accuracy on test data :  0.9829136690647482\n"
     ]
    }
   ],
   "source": [
    "prediction_on_test_data = bayes.predict(X_test_features)\n",
    "accuracy_on_test_data = accuracy_score(Y_test, prediction_on_test_data)\n",
    "print('Accuracy on test data : ', accuracy_on_test_data)"
   ]
  },
  {
   "cell_type": "code",
   "execution_count": 62,
   "id": "061e00c7",
   "metadata": {},
   "outputs": [
    {
     "name": "stdout",
     "output_type": "stream",
     "text": [
      "[1]\n",
      "Ham mail\n"
     ]
    }
   ],
   "source": [
    "prediction = bayes.predict(input_data_features)\n",
    "print(prediction)\n",
    "\n",
    "\n",
    "if (prediction[0]==1):\n",
    "  print('Ham mail')\n",
    "\n",
    "else:\n",
    "  print('Spam mail')"
   ]
  },
  {
   "cell_type": "code",
   "execution_count": 63,
   "id": "b5a289ff",
   "metadata": {},
   "outputs": [
    {
     "name": "stdout",
     "output_type": "stream",
     "text": [
      "Confusion Matrix:\n",
      "[[135  13]\n",
      " [  6 958]]\n"
     ]
    }
   ],
   "source": [
    "# Generate the confusion matrix\n",
    "confusion_matrix_result = confusion_matrix(Y_test, prediction_on_test_data)\n",
    "print(\"Confusion Matrix:\")\n",
    "print(confusion_matrix_result)"
   ]
  },
  {
   "cell_type": "code",
   "execution_count": null,
   "id": "4694550e",
   "metadata": {},
   "outputs": [],
   "source": []
  },
  {
   "cell_type": "code",
   "execution_count": null,
   "id": "91c63d24",
   "metadata": {},
   "outputs": [],
   "source": []
  },
  {
   "cell_type": "code",
   "execution_count": null,
   "id": "bcd77db2",
   "metadata": {},
   "outputs": [],
   "source": []
  }
 ],
 "metadata": {
  "kernelspec": {
   "display_name": "Python 3 (ipykernel)",
   "language": "python",
   "name": "python3"
  },
  "language_info": {
   "codemirror_mode": {
    "name": "ipython",
    "version": 3
   },
   "file_extension": ".py",
   "mimetype": "text/x-python",
   "name": "python",
   "nbconvert_exporter": "python",
   "pygments_lexer": "ipython3",
   "version": "3.9.13"
  }
 },
 "nbformat": 4,
 "nbformat_minor": 5
}
